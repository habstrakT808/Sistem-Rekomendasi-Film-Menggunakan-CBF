{
  "cells": [
    {
      "cell_type": "markdown",
      "metadata": {
        "id": "w4TTE3GNjAm6"
      },
      "source": [
        "# **SISTEM REKOMENDASI FILM**\n"
      ]
    },
    {
      "cell_type": "markdown",
      "metadata": {
        "id": "zkXN_ZA6jTFJ"
      },
      "source": [
        "## Menggunakan pendekatan Content-based Filtering dan Collaborative Filtering"
      ]
    },
    {
      "cell_type": "markdown",
      "metadata": {
        "id": "GZAxtSoDkR6J"
      },
      "source": [
        "## Persiapan Dataset dan Library"
      ]
    },
    {
      "cell_type": "markdown",
      "metadata": {
        "id": "wJtU-sl0jjZm"
      },
      "source": [
        "### Import library yang dibutuhkan"
      ]
    },
    {
      "cell_type": "code",
      "execution_count": 2,
      "metadata": {
        "id": "Z1dVc-77jMUn"
      },
      "outputs": [],
      "source": [
        "import pandas as pd\n",
        "import numpy as np\n",
        "import matplotlib.pyplot as plt\n",
        "import seaborn as sns\n",
        "from zipfile import ZipFile\n",
        "from sklearn.feature_extraction.text import TfidfVectorizer\n",
        "from sklearn.metrics.pairwise import cosine_similarity\n",
        "from sklearn.metrics import mean_squared_error\n",
        "import tensorflow as tf\n",
        "from tensorflow import keras\n",
        "from tensorflow.keras import layers\n",
        "import io\n",
        "import requests\n",
        "from sklearn.model_selection import train_test_split\n",
        "import matplotlib.pyplot as plt\n",
        "import re\n",
        "import os\n",
        "import warnings\n",
        "warnings.filterwarnings('ignore')\n",
        "\n",
        "# Mengatur style visualisasi\n",
        "plt.style.use('fivethirtyeight')\n",
        "sns.set_style('whitegrid')"
      ]
    },
    {
      "cell_type": "markdown",
      "metadata": {
        "id": "lnvXze14jlX4"
      },
      "source": [
        "### Fungsi untuk mengunduh dan mengekstrak dataset"
      ]
    },
    {
      "cell_type": "code",
      "execution_count": 4,
      "metadata": {
        "id": "YHtPbkG4i7zu"
      },
      "outputs": [],
      "source": [
        "def download_and_extract_data():\n",
        "    \"\"\"\n",
        "    Mengunduh dataset MovieLens 100K dan mengekstraknya\n",
        "    \"\"\"\n",
        "    # URL dataset\n",
        "    url = \"https://files.grouplens.org/datasets/movielens/ml-latest-small.zip\"\n",
        "\n",
        "    print(\"Mengunduh dataset...\")\n",
        "    r = requests.get(url)\n",
        "\n",
        "    # Menyimpan file zip\n",
        "    with open(\"ml-latest-small.zip\", \"wb\") as file:\n",
        "        file.write(r.content)\n",
        "\n",
        "    # Mengekstrak file\n",
        "    print(\"Mengekstrak file...\")\n",
        "    with ZipFile(\"ml-latest-small.zip\", \"r\") as zip_ref:\n",
        "        zip_ref.extractall()\n",
        "\n",
        "    print(\"Dataset berhasil diunduh dan diekstrak!\")"
      ]
    },
    {
      "cell_type": "markdown",
      "metadata": {
        "id": "snHXhgvYj29F"
      },
      "source": [
        "### Fungsi untuk memuat dataset"
      ]
    },
    {
      "cell_type": "code",
      "execution_count": 5,
      "metadata": {
        "id": "1Qxd2_Q-j9E_"
      },
      "outputs": [],
      "source": [
        "def load_data():\n",
        "    \"\"\"\n",
        "    Memuat dataset MovieLens\n",
        "    \"\"\"\n",
        "    # Jika dataset belum ada, unduh terlebih dahulu\n",
        "    if not os.path.exists(\"ml-latest-small\"):\n",
        "        download_and_extract_data()\n",
        "\n",
        "    # Memuat data rating\n",
        "    ratings = pd.read_csv('ml-latest-small/ratings.csv')\n",
        "\n",
        "    # Memuat data film\n",
        "    movies = pd.read_csv('ml-latest-small/movies.csv')\n",
        "\n",
        "    # Memuat data tags (jika diperlukan)\n",
        "    tags = pd.read_csv('ml-latest-small/tags.csv')\n",
        "\n",
        "    # Memuat data links (jika diperlukan)\n",
        "    links = pd.read_csv('ml-latest-small/links.csv')\n",
        "\n",
        "    return ratings, movies, tags, links"
      ]
    },
    {
      "cell_type": "markdown",
      "metadata": {
        "id": "9GWfeBExkASG"
      },
      "source": [
        "### Memuat dataset"
      ]
    },
    {
      "cell_type": "code",
      "execution_count": 6,
      "metadata": {
        "colab": {
          "base_uri": "https://localhost:8080/"
        },
        "id": "YDgeEOo4j9w8",
        "outputId": "cf63e2a2-03d1-4fbf-efa8-c1c431f28945"
      },
      "outputs": [
        {
          "name": "stdout",
          "output_type": "stream",
          "text": [
            "Mengunduh dataset...\n",
            "Mengekstrak file...\n",
            "Dataset berhasil diunduh dan diekstrak!\n",
            "Data ratings:\n",
            "   userId  movieId  rating  timestamp\n",
            "0       1        1     4.0  964982703\n",
            "1       1        3     4.0  964981247\n",
            "2       1        6     4.0  964982224\n",
            "3       1       47     5.0  964983815\n",
            "4       1       50     5.0  964982931\n",
            "\n",
            "Data movies:\n",
            "   movieId                               title  \\\n",
            "0        1                    Toy Story (1995)   \n",
            "1        2                      Jumanji (1995)   \n",
            "2        3             Grumpier Old Men (1995)   \n",
            "3        4            Waiting to Exhale (1995)   \n",
            "4        5  Father of the Bride Part II (1995)   \n",
            "\n",
            "                                        genres  \n",
            "0  Adventure|Animation|Children|Comedy|Fantasy  \n",
            "1                   Adventure|Children|Fantasy  \n",
            "2                               Comedy|Romance  \n",
            "3                         Comedy|Drama|Romance  \n",
            "4                                       Comedy  \n",
            "\n",
            "Data tags:\n",
            "   userId  movieId              tag   timestamp\n",
            "0       2    60756            funny  1445714994\n",
            "1       2    60756  Highly quotable  1445714996\n",
            "2       2    60756     will ferrell  1445714992\n",
            "3       2    89774     Boxing story  1445715207\n",
            "4       2    89774              MMA  1445715200\n",
            "\n",
            "Data links:\n",
            "   movieId  imdbId   tmdbId\n",
            "0        1  114709    862.0\n",
            "1        2  113497   8844.0\n",
            "2        3  113228  15602.0\n",
            "3        4  114885  31357.0\n",
            "4        5  113041  11862.0\n",
            "\n",
            "Informasi dataset ratings:\n",
            "<class 'pandas.core.frame.DataFrame'>\n",
            "RangeIndex: 100836 entries, 0 to 100835\n",
            "Data columns (total 4 columns):\n",
            " #   Column     Non-Null Count   Dtype  \n",
            "---  ------     --------------   -----  \n",
            " 0   userId     100836 non-null  int64  \n",
            " 1   movieId    100836 non-null  int64  \n",
            " 2   rating     100836 non-null  float64\n",
            " 3   timestamp  100836 non-null  int64  \n",
            "dtypes: float64(1), int64(3)\n",
            "memory usage: 3.1 MB\n",
            "None\n",
            "\n",
            "Informasi dataset movies:\n",
            "<class 'pandas.core.frame.DataFrame'>\n",
            "RangeIndex: 9742 entries, 0 to 9741\n",
            "Data columns (total 3 columns):\n",
            " #   Column   Non-Null Count  Dtype \n",
            "---  ------   --------------  ----- \n",
            " 0   movieId  9742 non-null   int64 \n",
            " 1   title    9742 non-null   object\n",
            " 2   genres   9742 non-null   object\n",
            "dtypes: int64(1), object(2)\n",
            "memory usage: 228.5+ KB\n",
            "None\n",
            "\n",
            "Statistik deskriptif ratings:\n",
            "              userId        movieId         rating     timestamp\n",
            "count  100836.000000  100836.000000  100836.000000  1.008360e+05\n",
            "mean      326.127564   19435.295718       3.501557  1.205946e+09\n",
            "std       182.618491   35530.987199       1.042529  2.162610e+08\n",
            "min         1.000000       1.000000       0.500000  8.281246e+08\n",
            "25%       177.000000    1199.000000       3.000000  1.019124e+09\n",
            "50%       325.000000    2991.000000       3.500000  1.186087e+09\n",
            "75%       477.000000    8122.000000       4.000000  1.435994e+09\n",
            "max       610.000000  193609.000000       5.000000  1.537799e+09\n"
          ]
        }
      ],
      "source": [
        "ratings, movies, tags, links = load_data()\n",
        "\n",
        "# Melihat 5 data pertama dari setiap dataset\n",
        "print(\"Data ratings:\")\n",
        "print(ratings.head())\n",
        "print(\"\\nData movies:\")\n",
        "print(movies.head())\n",
        "print(\"\\nData tags:\")\n",
        "print(tags.head())\n",
        "print(\"\\nData links:\")\n",
        "print(links.head())\n",
        "\n",
        "# Memeriksa informasi dataset\n",
        "print(\"\\nInformasi dataset ratings:\")\n",
        "print(ratings.info())\n",
        "print(\"\\nInformasi dataset movies:\")\n",
        "print(movies.info())\n",
        "\n",
        "# Memeriksa statistik deskriptif\n",
        "print(\"\\nStatistik deskriptif ratings:\")\n",
        "print(ratings.describe())"
      ]
    },
    {
      "cell_type": "markdown",
      "metadata": {
        "id": "-TBm-kIgka5-"
      },
      "source": [
        "## DATA UNDERSTANDING"
      ]
    },
    {
      "cell_type": "code",
      "execution_count": 7,
      "metadata": {
        "colab": {
          "base_uri": "https://localhost:8080/"
        },
        "id": "CV8HKvVRkd2T",
        "outputId": "38fefdfc-3467-43a5-f8b5-36dc5edc2f4f"
      },
      "outputs": [
        {
          "name": "stdout",
          "output_type": "stream",
          "text": [
            "Jumlah data ratings: 100836\n",
            "Jumlah film unik: 9742\n",
            "Jumlah pengguna unik: 610\n"
          ]
        }
      ],
      "source": [
        "# Memeriksa jumlah data di setiap dataset\n",
        "print(f\"Jumlah data ratings: {len(ratings)}\")\n",
        "print(f\"Jumlah film unik: {len(movies)}\")\n",
        "print(f\"Jumlah pengguna unik: {ratings['userId'].nunique()}\")\n",
        "\n",
        "# Visualisasi distribusi rating\n",
        "plt.figure(figsize=(10, 6))\n",
        "sns.countplot(x='rating', data=ratings)\n",
        "plt.title('Distribusi Rating Film')\n",
        "plt.xlabel('Rating')\n",
        "plt.ylabel('Jumlah')\n",
        "plt.savefig('rating_distribution.png')\n",
        "plt.close()\n",
        "\n",
        "# Visualisasi jumlah rating per film\n",
        "movie_ratings_count = ratings.groupby('movieId').size().reset_index(name='count')\n",
        "movie_ratings_count = movie_ratings_count.sort_values('count', ascending=False)\n",
        "\n",
        "plt.figure(figsize=(12, 6))\n",
        "sns.histplot(movie_ratings_count['count'], bins=50, kde=True)\n",
        "plt.title('Distribusi Jumlah Rating per Film')\n",
        "plt.xlabel('Jumlah Rating')\n",
        "plt.ylabel('Jumlah Film')\n",
        "plt.xscale('log')\n",
        "plt.savefig('ratings_per_movie.png')\n",
        "plt.close()\n",
        "\n",
        "# Visualisasi jumlah rating per pengguna\n",
        "user_ratings_count = ratings.groupby('userId').size().reset_index(name='count')\n",
        "user_ratings_count = user_ratings_count.sort_values('count', ascending=False)\n",
        "\n",
        "plt.figure(figsize=(12, 6))\n",
        "sns.histplot(user_ratings_count['count'], bins=50, kde=True)\n",
        "plt.title('Distribusi Jumlah Rating per Pengguna')\n",
        "plt.xlabel('Jumlah Rating')\n",
        "plt.ylabel('Jumlah Pengguna')\n",
        "plt.savefig('ratings_per_user.png')\n",
        "plt.close()"
      ]
    },
    {
      "cell_type": "markdown",
      "metadata": {
        "id": "9gUcexgEktFH"
      },
      "source": [
        "### Analisis genre film\n"
      ]
    },
    {
      "cell_type": "code",
      "execution_count": 8,
      "metadata": {
        "id": "xr2gM-ezki3U"
      },
      "outputs": [],
      "source": [
        "# Ekstrak semua genre yang ada\n",
        "all_genres = []\n",
        "for genres in movies['genres'].str.split('|'):\n",
        "    all_genres.extend(genres)\n",
        "\n",
        "unique_genres = pd.Series(all_genres).value_counts().reset_index()\n",
        "unique_genres.columns = ['genre', 'count']\n",
        "\n",
        "plt.figure(figsize=(14, 8))\n",
        "sns.barplot(x='genre', y='count', data=unique_genres.head(15))\n",
        "plt.title('15 Genre Film Terpopuler')\n",
        "plt.xlabel('Genre')\n",
        "plt.ylabel('Jumlah Film')\n",
        "plt.xticks(rotation=45)\n",
        "plt.tight_layout()\n",
        "plt.savefig('top_genres.png')\n",
        "plt.close()\n",
        "\n",
        "# Menggabungkan data film dengan rating rata-rata\n",
        "movie_avg_rating = ratings.groupby('movieId')['rating'].mean().reset_index()\n",
        "movie_avg_rating.columns = ['movieId', 'avgRating']\n",
        "\n",
        "movies_with_ratings = pd.merge(movies, movie_avg_rating, on='movieId', how='left')\n",
        "movies_with_ratings['avgRating'] = movies_with_ratings['avgRating'].fillna(0)\n",
        "\n",
        "# Visualisasi film dengan rating tertinggi (min 100 rating)\n",
        "movie_rating_count = ratings.groupby('movieId')['rating'].count().reset_index()\n",
        "movie_rating_count.columns = ['movieId', 'ratingCount']\n",
        "\n",
        "movies_with_stats = pd.merge(movies_with_ratings, movie_rating_count, on='movieId', how='left')\n",
        "movies_with_stats['ratingCount'] = movies_with_stats['ratingCount'].fillna(0)\n",
        "\n",
        "popular_movies = movies_with_stats[movies_with_stats['ratingCount'] >= 100].sort_values('avgRating', ascending=False)\n",
        "\n",
        "plt.figure(figsize=(14, 8))\n",
        "sns.barplot(x='avgRating', y='title', data=popular_movies.head(15))\n",
        "plt.title('15 Film dengan Rating Tertinggi (Min. 100 Rating)')\n",
        "plt.xlabel('Rating Rata-rata')\n",
        "plt.ylabel('Judul Film')\n",
        "plt.tight_layout()\n",
        "plt.savefig('top_rated_movies.png')\n",
        "plt.close()"
      ]
    },
    {
      "cell_type": "markdown",
      "metadata": {
        "id": "Bs_vuSH3k92C"
      },
      "source": [
        "## DATA PREPARATION"
      ]
    },
    {
      "cell_type": "code",
      "execution_count": 9,
      "metadata": {
        "colab": {
          "base_uri": "https://localhost:8080/"
        },
        "id": "c5DeZZUrkx6k",
        "outputId": "7694c1ca-44e6-435a-a3c7-a1c67fecd42e"
      },
      "outputs": [
        {
          "name": "stdout",
          "output_type": "stream",
          "text": [
            "Jumlah rating sebelum filtering: 100836\n",
            "Jumlah rating setelah filtering: 90274\n",
            "Jumlah rating setelah filtering pengguna: 90274\n"
          ]
        }
      ],
      "source": [
        "# Menghapus film yang memiliki sedikit rating (kurang dari 5 rating)\n",
        "movie_counts = ratings['movieId'].value_counts()\n",
        "movies_to_keep = movie_counts[movie_counts >= 5].index\n",
        "\n",
        "filtered_ratings = ratings[ratings['movieId'].isin(movies_to_keep)]\n",
        "print(f\"Jumlah rating sebelum filtering: {len(ratings)}\")\n",
        "print(f\"Jumlah rating setelah filtering: {len(filtered_ratings)}\")\n",
        "\n",
        "# Menghapus pengguna yang memberikan sedikit rating (kurang dari 5 rating)\n",
        "user_counts = filtered_ratings['userId'].value_counts()\n",
        "users_to_keep = user_counts[user_counts >= 5].index\n",
        "\n",
        "filtered_ratings = filtered_ratings[filtered_ratings['userId'].isin(users_to_keep)]\n",
        "print(f\"Jumlah rating setelah filtering pengguna: {len(filtered_ratings)}\")\n",
        "\n",
        "# Membuat kolom tahun dari judul film\n",
        "def extract_year(title):\n",
        "    match = re.search(r'\\((\\d{4})\\)$', title)\n",
        "    if match:\n",
        "        return int(match.group(1))\n",
        "    return None\n",
        "\n",
        "movies['year'] = movies['title'].apply(extract_year)"
      ]
    },
    {
      "cell_type": "markdown",
      "metadata": {
        "id": "zMcBo0wvlGcH"
      },
      "source": [
        "### Preprocessing data untuk Content-Based Filtering"
      ]
    },
    {
      "cell_type": "code",
      "execution_count": 10,
      "metadata": {
        "id": "LYKUuJ8PlFnP"
      },
      "outputs": [],
      "source": [
        "# Membuat fitur berdasarkan genre\n",
        "movies['genres'] = movies['genres'].fillna('')\n",
        "\n",
        "# Membuat TF-IDF matrix dari genre\n",
        "tfidf = TfidfVectorizer(stop_words='english')\n",
        "tfidf_matrix = tfidf.fit_transform(movies['genres'].str.replace('|', ' '))\n",
        "\n",
        "# Menghitung cosine similarity antar film\n",
        "cosine_sim = cosine_similarity(tfidf_matrix, tfidf_matrix)\n",
        "\n",
        "# Membuat mapping dari indeks ke movieId dan sebaliknya\n",
        "indices = pd.Series(movies.index, index=movies['movieId']).drop_duplicates()\n",
        "movie_indices = pd.Series(movies['movieId'].values, index=movies.index)"
      ]
    },
    {
      "cell_type": "markdown",
      "metadata": {
        "id": "kStkxGm-lPF2"
      },
      "source": [
        "### Preprocessing data untuk Collaborative Filtering"
      ]
    },
    {
      "cell_type": "code",
      "execution_count": 11,
      "metadata": {
        "id": "JYXFYQEAlMCf"
      },
      "outputs": [],
      "source": [
        "# Memisahkan data menjadi training dan testing\n",
        "train_data, test_data = train_test_split(\n",
        "    filtered_ratings,\n",
        "    test_size=0.2,\n",
        "    random_state=42\n",
        ")\n",
        "\n",
        "# Membuat mapping movieId dan userId ke indeks berurutan\n",
        "user_ids = filtered_ratings['userId'].unique().tolist()\n",
        "movie_ids = filtered_ratings['movieId'].unique().tolist()\n",
        "\n",
        "user_to_index = {user_id: i for i, user_id in enumerate(user_ids)}\n",
        "movie_to_index = {movie_id: i for i, movie_id in enumerate(movie_ids)}\n",
        "\n",
        "# Konversi data ke format yang sesuai untuk model\n",
        "def map_ids(row):\n",
        "    return {\n",
        "        'user': user_to_index[row['userId']],\n",
        "        'movie': movie_to_index[row['movieId']],\n",
        "        'rating': row['rating']\n",
        "    }\n",
        "\n",
        "train_mapped = train_data.apply(map_ids, axis=1).tolist()\n",
        "test_mapped = test_data.apply(map_ids, axis=1).tolist()"
      ]
    },
    {
      "cell_type": "markdown",
      "metadata": {
        "id": "jr2JykJglXvm"
      },
      "source": [
        "## MODELING - CONTENT-BASED FILTERING\n"
      ]
    },
    {
      "cell_type": "code",
      "execution_count": 12,
      "metadata": {
        "id": "_yPhHPexlR-A"
      },
      "outputs": [],
      "source": [
        "def get_recommendations_content_based(movie_id, cosine_sim=cosine_sim, movies=movies, indices=indices, movie_indices=movie_indices, n=10):\n",
        "    \"\"\"\n",
        "    Memberikan rekomendasi film berdasarkan kesamaan genre\n",
        "\n",
        "    Parameters:\n",
        "    -----------\n",
        "    movie_id : int\n",
        "        ID film yang menjadi dasar rekomendasi\n",
        "    cosine_sim : numpy.ndarray\n",
        "        Matrix kesamaan kosinus antar film\n",
        "    movies : pandas.DataFrame\n",
        "        DataFrame berisi data film\n",
        "    indices : pandas.Series\n",
        "        Mapping dari movieId ke indeks\n",
        "    movie_indices : pandas.Series\n",
        "        Mapping dari indeks ke movieId\n",
        "    n : int\n",
        "        Jumlah rekomendasi yang diinginkan\n",
        "\n",
        "    Returns:\n",
        "    --------\n",
        "    pandas.DataFrame\n",
        "        DataFrame berisi film yang direkomendasikan\n",
        "    \"\"\"\n",
        "    # Mendapatkan indeks film dari movieId\n",
        "    if movie_id not in indices:\n",
        "        return pd.DataFrame()\n",
        "\n",
        "    idx = indices[movie_id]\n",
        "\n",
        "    # Mendapatkan skor kesamaan dengan semua film\n",
        "    sim_scores = list(enumerate(cosine_sim[idx]))\n",
        "\n",
        "    # Mengurutkan film berdasarkan skor kesamaan\n",
        "    sim_scores = sorted(sim_scores, key=lambda x: x[1], reverse=True)\n",
        "\n",
        "    # Mendapatkan indeks film yang direkomendasikan (tidak termasuk film itu sendiri)\n",
        "    sim_scores = sim_scores[1:n+1]\n",
        "    movie_indices_rec = [i[0] for i in sim_scores]\n",
        "\n",
        "    # Mendapatkan movieId dari indeks\n",
        "    movie_ids_rec = [movie_indices[i] for i in movie_indices_rec]\n",
        "\n",
        "    # Mengembalikan data film yang direkomendasikan\n",
        "    return movies[movies['movieId'].isin(movie_ids_rec)][['movieId', 'title', 'genres']]"
      ]
    },
    {
      "cell_type": "markdown",
      "metadata": {
        "id": "SnltV-fGle64"
      },
      "source": [
        "### Contoh penggunaan Content-Based Filtering"
      ]
    },
    {
      "cell_type": "code",
      "execution_count": 13,
      "metadata": {
        "colab": {
          "base_uri": "https://localhost:8080/"
        },
        "id": "9cw-qiIGlccz",
        "outputId": "64a429ed-0272-48e2-cb62-278f7401f0fc"
      },
      "outputs": [
        {
          "name": "stdout",
          "output_type": "stream",
          "text": [
            "Film dasar untuk rekomendasi: Toy Story (1995) (ID: 1)\n",
            "\n",
            "Rekomendasi berdasarkan Content-Based Filtering:\n",
            "      movieId                                              title  \\\n",
            "1706     2294                                        Antz (1998)   \n",
            "2355     3114                                 Toy Story 2 (1999)   \n",
            "2809     3754     Adventures of Rocky and Bullwinkle, The (2000)   \n",
            "3000     4016                   Emperor's New Groove, The (2000)   \n",
            "3568     4886                              Monsters, Inc. (2001)   \n",
            "6194    45074                                   Wild, The (2006)   \n",
            "6486    53121                             Shrek the Third (2007)   \n",
            "6948    65577                     Tale of Despereaux, The (2008)   \n",
            "7760    91355  Asterix and the Vikings (Astérix et les Viking...   \n",
            "8219   103755                                       Turbo (2013)   \n",
            "\n",
            "                                           genres  \n",
            "1706  Adventure|Animation|Children|Comedy|Fantasy  \n",
            "2355  Adventure|Animation|Children|Comedy|Fantasy  \n",
            "2809  Adventure|Animation|Children|Comedy|Fantasy  \n",
            "3000  Adventure|Animation|Children|Comedy|Fantasy  \n",
            "3568  Adventure|Animation|Children|Comedy|Fantasy  \n",
            "6194  Adventure|Animation|Children|Comedy|Fantasy  \n",
            "6486  Adventure|Animation|Children|Comedy|Fantasy  \n",
            "6948  Adventure|Animation|Children|Comedy|Fantasy  \n",
            "7760  Adventure|Animation|Children|Comedy|Fantasy  \n",
            "8219  Adventure|Animation|Children|Comedy|Fantasy  \n"
          ]
        }
      ],
      "source": [
        "# Mencari film \"Toy Story\"\n",
        "toy_story = movies[movies['title'].str.contains('Toy Story', case=False)].iloc[0]\n",
        "print(f\"Film dasar untuk rekomendasi: {toy_story['title']} (ID: {toy_story['movieId']})\")\n",
        "\n",
        "# Mendapatkan rekomendasi\n",
        "content_based_recommendations = get_recommendations_content_based(toy_story['movieId'])\n",
        "print(\"\\nRekomendasi berdasarkan Content-Based Filtering:\")\n",
        "print(content_based_recommendations)"
      ]
    },
    {
      "cell_type": "markdown",
      "metadata": {
        "id": "gJav1Yy3lpvB"
      },
      "source": [
        "## MODELING - COLLABORATIVE FILTERING"
      ]
    },
    {
      "cell_type": "code",
      "execution_count": 14,
      "metadata": {
        "id": "PHT8nph9lh_v"
      },
      "outputs": [],
      "source": [
        "# Mendefinisikan model Neural Collaborative Filtering\n",
        "def create_ncf_model(num_users, num_movies, embedding_size=50):\n",
        "    \"\"\"\n",
        "    Membuat model Neural Collaborative Filtering\n",
        "\n",
        "    Parameters:\n",
        "    -----------\n",
        "    num_users : int\n",
        "        Jumlah pengguna unik\n",
        "    num_movies : int\n",
        "        Jumlah film unik\n",
        "    embedding_size : int\n",
        "        Ukuran embedding vector\n",
        "\n",
        "    Returns:\n",
        "    --------\n",
        "    tensorflow.keras.Model\n",
        "        Model NCF yang telah didefinisikan\n",
        "    \"\"\"\n",
        "    # Input layers\n",
        "    user_input = keras.Input(shape=(1,), name='user_input')\n",
        "    movie_input = keras.Input(shape=(1,), name='movie_input')\n",
        "\n",
        "    # Embedding layers\n",
        "    user_embedding = layers.Embedding(\n",
        "        input_dim=num_users,\n",
        "        output_dim=embedding_size,\n",
        "        name='user_embedding'\n",
        "    )(user_input)\n",
        "\n",
        "    movie_embedding = layers.Embedding(\n",
        "        input_dim=num_movies,\n",
        "        output_dim=embedding_size,\n",
        "        name='movie_embedding'\n",
        "    )(movie_input)\n",
        "\n",
        "    # Flatten embeddings\n",
        "    user_vector = layers.Flatten()(user_embedding)\n",
        "    movie_vector = layers.Flatten()(movie_embedding)\n",
        "\n",
        "    # Concatenate embeddings\n",
        "    concat = layers.Concatenate()([user_vector, movie_vector])\n",
        "\n",
        "    # Dense layers\n",
        "    dense1 = layers.Dense(128, activation='relu')(concat)\n",
        "    dense1 = layers.Dropout(0.2)(dense1)\n",
        "    dense2 = layers.Dense(64, activation='relu')(dense1)\n",
        "    dense2 = layers.Dropout(0.2)(dense2)\n",
        "\n",
        "    # Output layer\n",
        "    output = layers.Dense(1)(dense2)\n",
        "\n",
        "    # Create model\n",
        "    model = keras.Model(inputs=[user_input, movie_input], outputs=output)\n",
        "\n",
        "    # Compile model\n",
        "    model.compile(\n",
        "        optimizer=keras.optimizers.Adam(learning_rate=0.001),\n",
        "        loss='mean_squared_error'\n",
        "    )\n",
        "\n",
        "    return model"
      ]
    },
    {
      "cell_type": "markdown",
      "metadata": {
        "id": "-Rfh7mxwl3R7"
      },
      "source": [
        "### Membuat dataset TensorFlow"
      ]
    },
    {
      "cell_type": "code",
      "execution_count": 15,
      "metadata": {
        "id": "GZu60xzyl017"
      },
      "outputs": [],
      "source": [
        "def create_tf_dataset(data_mapped, batch_size=64, shuffle=True):\n",
        "    \"\"\"\n",
        "    Membuat dataset TensorFlow dari data yang sudah dimapping\n",
        "\n",
        "    Parameters:\n",
        "    -----------\n",
        "    data_mapped : list\n",
        "        List berisi dictionary dengan keys 'user', 'movie', dan 'rating'\n",
        "    batch_size : int\n",
        "        Ukuran batch\n",
        "    shuffle : bool\n",
        "        Apakah data perlu diacak\n",
        "\n",
        "    Returns:\n",
        "    --------\n",
        "    tf.data.Dataset\n",
        "        Dataset TensorFlow\n",
        "    \"\"\"\n",
        "    users = np.array([x['user'] for x in data_mapped])\n",
        "    movies = np.array([x['movie'] for x in data_mapped])\n",
        "    ratings = np.array([x['rating'] for x in data_mapped])\n",
        "\n",
        "    dataset = tf.data.Dataset.from_tensor_slices(({\n",
        "        'user_input': users,\n",
        "        'movie_input': movies\n",
        "    }, ratings))\n",
        "\n",
        "    if shuffle:\n",
        "        dataset = dataset.shuffle(buffer_size=len(data_mapped))\n",
        "\n",
        "    dataset = dataset.batch(batch_size)\n",
        "\n",
        "    return dataset"
      ]
    },
    {
      "cell_type": "code",
      "execution_count": 16,
      "metadata": {
        "colab": {
          "base_uri": "https://localhost:8080/"
        },
        "id": "EOdCAUwdmANz",
        "outputId": "2ee5c9bf-6042-4de6-adfe-73e82d4279c7"
      },
      "outputs": [
        {
          "name": "stdout",
          "output_type": "stream",
          "text": [
            "Epoch 1/20\n",
            "\u001b[1m1129/1129\u001b[0m \u001b[32m━━━━━━━━━━━━━━━━━━━━\u001b[0m\u001b[37m\u001b[0m \u001b[1m8s\u001b[0m 4ms/step - loss: 2.3727 - val_loss: 0.7578\n",
            "Epoch 2/20\n",
            "\u001b[1m1129/1129\u001b[0m \u001b[32m━━━━━━━━━━━━━━━━━━━━\u001b[0m\u001b[37m\u001b[0m \u001b[1m6s\u001b[0m 5ms/step - loss: 0.8246 - val_loss: 0.7289\n",
            "Epoch 3/20\n",
            "\u001b[1m1129/1129\u001b[0m \u001b[32m━━━━━━━━━━━━━━━━━━━━\u001b[0m\u001b[37m\u001b[0m \u001b[1m11s\u001b[0m 6ms/step - loss: 0.7705 - val_loss: 0.7199\n",
            "Epoch 4/20\n",
            "\u001b[1m1129/1129\u001b[0m \u001b[32m━━━━━━━━━━━━━━━━━━━━\u001b[0m\u001b[37m\u001b[0m \u001b[1m5s\u001b[0m 4ms/step - loss: 0.7273 - val_loss: 0.7230\n",
            "Epoch 5/20\n",
            "\u001b[1m1129/1129\u001b[0m \u001b[32m━━━━━━━━━━━━━━━━━━━━\u001b[0m\u001b[37m\u001b[0m \u001b[1m5s\u001b[0m 4ms/step - loss: 0.6816 - val_loss: 0.7267\n",
            "Epoch 6/20\n",
            "\u001b[1m1129/1129\u001b[0m \u001b[32m━━━━━━━━━━━━━━━━━━━━\u001b[0m\u001b[37m\u001b[0m \u001b[1m6s\u001b[0m 5ms/step - loss: 0.6325 - val_loss: 0.7250\n",
            "Epoch 7/20\n",
            "\u001b[1m1129/1129\u001b[0m \u001b[32m━━━━━━━━━━━━━━━━━━━━\u001b[0m\u001b[37m\u001b[0m \u001b[1m5s\u001b[0m 4ms/step - loss: 0.5928 - val_loss: 0.7454\n",
            "Epoch 8/20\n",
            "\u001b[1m1129/1129\u001b[0m \u001b[32m━━━━━━━━━━━━━━━━━━━━\u001b[0m\u001b[37m\u001b[0m \u001b[1m7s\u001b[0m 6ms/step - loss: 0.5472 - val_loss: 0.7659\n"
          ]
        }
      ],
      "source": [
        "# Membuat dataset TensorFlow\n",
        "train_dataset = create_tf_dataset(train_mapped)\n",
        "test_dataset = create_tf_dataset(test_mapped, shuffle=False)\n",
        "\n",
        "# Membuat dan melatih model\n",
        "num_users = len(user_ids)\n",
        "num_movies = len(movie_ids)\n",
        "\n",
        "# Membuat model\n",
        "model = create_ncf_model(num_users, num_movies)\n",
        "\n",
        "# Mendefinisikan callbacks\n",
        "early_stopping = keras.callbacks.EarlyStopping(\n",
        "    monitor='val_loss',\n",
        "    patience=5,\n",
        "    restore_best_weights=True\n",
        ")\n",
        "\n",
        "# Melatih model\n",
        "history = model.fit(\n",
        "    train_dataset,\n",
        "    epochs=20,\n",
        "    validation_data=test_dataset,\n",
        "    callbacks=[early_stopping]\n",
        ")"
      ]
    },
    {
      "cell_type": "code",
      "execution_count": 17,
      "metadata": {
        "id": "WDg4Nip_mD3n"
      },
      "outputs": [],
      "source": [
        "# Visualisasi loss selama training\n",
        "plt.figure(figsize=(10, 6))\n",
        "plt.plot(history.history['loss'], label='Training Loss')\n",
        "plt.plot(history.history['val_loss'], label='Validation Loss')\n",
        "plt.title('Model Loss')\n",
        "plt.xlabel('Epoch')\n",
        "plt.ylabel('Loss')\n",
        "plt.legend()\n",
        "plt.savefig('model_loss.png')\n",
        "plt.close()"
      ]
    },
    {
      "cell_type": "code",
      "execution_count": 18,
      "metadata": {
        "id": "dfreXGNqnACG"
      },
      "outputs": [],
      "source": [
        "# Fungsi untuk mendapatkan rekomendasi dengan Collaborative Filtering\n",
        "def get_recommendations_collaborative(user_id, movies_df=movies, ratings_df=filtered_ratings, model=model,\n",
        "                                     user_to_index=user_to_index, movie_to_index=movie_to_index, n=10):\n",
        "    \"\"\"\n",
        "    Memberikan rekomendasi film berdasarkan Collaborative Filtering\n",
        "\n",
        "    Parameters:\n",
        "    -----------\n",
        "    user_id : int\n",
        "        ID pengguna\n",
        "    movies_df : pandas.DataFrame\n",
        "        DataFrame berisi data film\n",
        "    ratings_df : pandas.DataFrame\n",
        "        DataFrame berisi data rating\n",
        "    model : tensorflow.keras.Model\n",
        "        Model Collaborative Filtering\n",
        "    user_to_index : dict\n",
        "        Mapping dari userId ke indeks\n",
        "    movie_to_index : dict\n",
        "        Mapping dari movieId ke indeks\n",
        "    n : int\n",
        "        Jumlah rekomendasi yang diinginkan\n",
        "\n",
        "    Returns:\n",
        "    --------\n",
        "    pandas.DataFrame\n",
        "        DataFrame berisi film yang direkomendasikan\n",
        "    \"\"\"\n",
        "    # Mendapatkan film yang belum ditonton oleh pengguna\n",
        "    user_movies = ratings_df[ratings_df['userId'] == user_id]['movieId'].unique()\n",
        "    movies_to_predict = movies_df[~movies_df['movieId'].isin(user_movies)]['movieId'].values\n",
        "\n",
        "    # Jika pengguna tidak ada dalam dataset training\n",
        "    if user_id not in user_to_index:\n",
        "        # Kembalikan rekomendasi film populer\n",
        "        top_movies = ratings_df.groupby('movieId')['rating'].mean().sort_values(ascending=False).index[:n]\n",
        "        return movies_df[movies_df['movieId'].isin(top_movies)][['movieId', 'title', 'genres']]\n",
        "\n",
        "    # Membuat data untuk prediksi\n",
        "    user_idx = user_to_index[user_id]\n",
        "    movie_indices = [movie_to_index[m] for m in movies_to_predict if m in movie_to_index]\n",
        "\n",
        "    if not movie_indices:\n",
        "        # Jika tidak ada film yang bisa diprediksi, kembalikan rekomendasi film populer\n",
        "        top_movies = ratings_df.groupby('movieId')['rating'].mean().sort_values(ascending=False).index[:n]\n",
        "        return movies_df[movies_df['movieId'].isin(top_movies)][['movieId', 'title', 'genres']]\n",
        "\n",
        "    users = np.array([user_idx] * len(movie_indices))\n",
        "    movies = np.array(movie_indices)\n",
        "\n",
        "    # Prediksi rating\n",
        "    predictions = model.predict({\n",
        "        'user_input': users,\n",
        "        'movie_input': movies\n",
        "    })\n",
        "\n",
        "    # Menggabungkan film dengan prediksi rating\n",
        "    movie_ids = [list(movie_to_index.keys())[list(movie_to_index.values()).index(idx)] for idx in movies]\n",
        "    predicted_ratings = predictions.flatten()\n",
        "\n",
        "    # Membuat DataFrame prediksi\n",
        "    pred_df = pd.DataFrame({\n",
        "        'movieId': movie_ids,\n",
        "        'predicted_rating': predicted_ratings\n",
        "    })\n",
        "\n",
        "    # Mengurutkan berdasarkan prediksi rating\n",
        "    pred_df = pred_df.sort_values('predicted_rating', ascending=False)\n",
        "\n",
        "    # Mendapatkan top-n rekomendasi\n",
        "    top_movie_ids = pred_df.head(n)['movieId'].values\n",
        "\n",
        "    # Mengembalikan data film yang direkomendasikan\n",
        "    return movies_df[movies_df['movieId'].isin(top_movie_ids)][['movieId', 'title', 'genres']]"
      ]
    },
    {
      "cell_type": "markdown",
      "metadata": {
        "id": "lZhTbUPrnK-2"
      },
      "source": [
        "### Contoh penggunaan Collaborative Filtering"
      ]
    },
    {
      "cell_type": "code",
      "execution_count": 19,
      "metadata": {
        "colab": {
          "base_uri": "https://localhost:8080/"
        },
        "id": "wRi2-meFnG_f",
        "outputId": "fee5512a-9eeb-47d5-c19e-b720c3a9f5ea"
      },
      "outputs": [
        {
          "name": "stdout",
          "output_type": "stream",
          "text": [
            "\n",
            "Rekomendasi untuk Pengguna ID: 414\n",
            "\n",
            "Beberapa film yang sudah ditonton oleh pengguna:\n",
            "                               title  rating\n",
            "2112       Hell or High Water (2016)     5.0\n",
            "8     American President, The (1995)     5.0\n",
            "1030            High Fidelity (2000)     5.0\n",
            "30        Usual Suspects, The (1995)     5.0\n",
            "1056                Gladiator (2000)     5.0\n",
            "\u001b[1m48/48\u001b[0m \u001b[32m━━━━━━━━━━━━━━━━━━━━\u001b[0m\u001b[37m\u001b[0m \u001b[1m0s\u001b[0m 6ms/step\n",
            "\n",
            "Rekomendasi berdasarkan Collaborative Filtering:\n",
            "      movieId                                              title  \\\n",
            "27         28                                  Persuasion (1995)   \n",
            "940      1241                      Dead Alive (Braindead) (1992)   \n",
            "1759     2357         Central Station (Central do Brasil) (1998)   \n",
            "2582     3451                Guess Who's Coming to Dinner (1967)   \n",
            "2593     3468                                Hustler, The (1961)   \n",
            "4504     6666  Discreet Charm of the Bourgeoisie, The (Charme...   \n",
            "5110     8132                                   Gladiator (1992)   \n",
            "5621    27156  Neon Genesis Evangelion: The End of Evangelion...   \n",
            "7815    92535      Louis C.K.: Live at the Beacon Theater (2011)   \n",
            "9301   158966                           Captain Fantastic (2016)   \n",
            "\n",
            "                                     genres  \n",
            "27                            Drama|Romance  \n",
            "940                   Comedy|Fantasy|Horror  \n",
            "1759                                  Drama  \n",
            "2582                                  Drama  \n",
            "2593                                  Drama  \n",
            "4504                   Comedy|Drama|Fantasy  \n",
            "5110                           Action|Drama  \n",
            "5621  Action|Animation|Drama|Fantasy|Sci-Fi  \n",
            "7815                                 Comedy  \n",
            "9301                                  Drama  \n"
          ]
        }
      ],
      "source": [
        "# Memilih pengguna\n",
        "sample_user_id = filtered_ratings['userId'].value_counts().index[0]\n",
        "print(f\"\\nRekomendasi untuk Pengguna ID: {sample_user_id}\")\n",
        "\n",
        "# Mendapatkan film yang sudah ditonton oleh pengguna\n",
        "user_watched_movies = filtered_ratings[filtered_ratings['userId'] == sample_user_id]\n",
        "user_watched_movies = pd.merge(user_watched_movies, movies[['movieId', 'title']], on='movieId')\n",
        "print(\"\\nBeberapa film yang sudah ditonton oleh pengguna:\")\n",
        "print(user_watched_movies[['title', 'rating']].sort_values('rating', ascending=False).head())\n",
        "\n",
        "# Mendapatkan rekomendasi\n",
        "collaborative_recommendations = get_recommendations_collaborative(sample_user_id)\n",
        "print(\"\\nRekomendasi berdasarkan Collaborative Filtering:\")\n",
        "print(collaborative_recommendations)"
      ]
    },
    {
      "cell_type": "markdown",
      "metadata": {
        "id": "J2UrJ5LknX8b"
      },
      "source": [
        "## EVALUATION\n"
      ]
    },
    {
      "cell_type": "code",
      "execution_count": 20,
      "metadata": {
        "id": "6b_I_44HnPNa"
      },
      "outputs": [],
      "source": [
        "# Evaluasi Content-Based Filtering\n",
        "def evaluate_content_based(movies_df, ratings_df, indices, cosine_sim, movie_indices, k=10):\n",
        "    \"\"\"\n",
        "    Evaluasi model Content-Based Filtering menggunakan precision@k\n",
        "\n",
        "    Parameters:\n",
        "    -----------\n",
        "    movies_df : pandas.DataFrame\n",
        "        DataFrame berisi data film\n",
        "    ratings_df : pandas.DataFrame\n",
        "        DataFrame berisi data rating\n",
        "    indices : pandas.Series\n",
        "        Mapping dari movieId ke indeks\n",
        "    cosine_sim : numpy.ndarray\n",
        "        Matrix kesamaan kosinus antar film\n",
        "    movie_indices : pandas.Series\n",
        "        Mapping dari indeks ke movieId\n",
        "    k : int\n",
        "        Jumlah rekomendasi yang dievaluasi\n",
        "\n",
        "    Returns:\n",
        "    --------\n",
        "    float\n",
        "        Nilai precision@k rata-rata\n",
        "    \"\"\"\n",
        "    # Pilih pengguna dengan jumlah rating yang cukup\n",
        "    users_with_enough_ratings = ratings_df['userId'].value_counts()[ratings_df['userId'].value_counts() >= 20].index\n",
        "\n",
        "    # Batasi jumlah pengguna untuk evaluasi\n",
        "    sample_users = np.random.choice(users_with_enough_ratings, min(100, len(users_with_enough_ratings)), replace=False)\n",
        "\n",
        "    precision_at_k_scores = []\n",
        "\n",
        "    for user_id in sample_users:\n",
        "        # Dapatkan film yang disukai pengguna (rating >= 4)\n",
        "        liked_movies = ratings_df[(ratings_df['userId'] == user_id) & (ratings_df['rating'] >= 4)]['movieId'].values\n",
        "\n",
        "        if len(liked_movies) < 2:\n",
        "            continue\n",
        "\n",
        "        # Pisahkan satu film untuk dasar rekomendasi\n",
        "        np.random.shuffle(liked_movies)\n",
        "        base_movie = liked_movies[0]\n",
        "        test_movies = liked_movies[1:]\n",
        "\n",
        "        # Dapatkan rekomendasi berdasarkan film dasar\n",
        "        if base_movie not in indices:\n",
        "            continue\n",
        "\n",
        "        recommendations = get_recommendations_content_based(base_movie, cosine_sim, movies_df, indices, movie_indices, n=k)\n",
        "        recommended_ids = recommendations['movieId'].values\n",
        "\n",
        "        # Hitung precision@k\n",
        "        relevant_count = len(set(recommended_ids) & set(test_movies))\n",
        "        precision_at_k = relevant_count / k\n",
        "\n",
        "        precision_at_k_scores.append(precision_at_k)\n",
        "\n",
        "    # Hitung rata-rata precision@k\n",
        "    if precision_at_k_scores:\n",
        "        return np.mean(precision_at_k_scores)\n",
        "    else:\n",
        "        return 0"
      ]
    },
    {
      "cell_type": "code",
      "execution_count": 21,
      "metadata": {
        "id": "Sw8gXCpjne8N"
      },
      "outputs": [],
      "source": [
        "# Evaluasi Collaborative Filtering\n",
        "def evaluate_collaborative(model, test_dataset):\n",
        "    \"\"\"\n",
        "    Evaluasi model Collaborative Filtering menggunakan RMSE\n",
        "\n",
        "    Parameters:\n",
        "    -----------\n",
        "    model : tensorflow.keras.Model\n",
        "        Model Collaborative Filtering\n",
        "    test_dataset : tf.data.Dataset\n",
        "        Dataset testing\n",
        "\n",
        "    Returns:\n",
        "    --------\n",
        "    float\n",
        "        Nilai RMSE\n",
        "    \"\"\"\n",
        "    # Prediksi rating pada dataset testing\n",
        "    y_pred = model.predict(test_dataset)\n",
        "\n",
        "    # Dapatkan nilai sebenarnya\n",
        "    y_true = np.concatenate([y for _, y in test_dataset], axis=0)\n",
        "\n",
        "    # Hitung RMSE\n",
        "    rmse = np.sqrt(mean_squared_error(y_true, y_pred))\n",
        "\n",
        "    return rmse"
      ]
    },
    {
      "cell_type": "code",
      "execution_count": 23,
      "metadata": {
        "colab": {
          "base_uri": "https://localhost:8080/"
        },
        "id": "uJwQmg8wniaZ",
        "outputId": "c4ff1c8f-07fc-4db0-ebe1-5de26219397c"
      },
      "outputs": [
        {
          "name": "stdout",
          "output_type": "stream",
          "text": [
            "\n",
            "Evaluasi Model:\n",
            "Content-Based Filtering - Precision@10: 0.0440\n",
            "\u001b[1m283/283\u001b[0m \u001b[32m━━━━━━━━━━━━━━━━━━━━\u001b[0m\u001b[37m\u001b[0m \u001b[1m2s\u001b[0m 6ms/step\n",
            "Collaborative Filtering - RMSE: 0.8485\n",
            "\n",
            "Proyek Sistem Rekomendasi Film Selesai!\n"
          ]
        }
      ],
      "source": [
        "# Evaluasi kedua model\n",
        "print(\"\\nEvaluasi Model:\")\n",
        "\n",
        "# Evaluasi Content-Based Filtering\n",
        "precision_at_k = evaluate_content_based(movies, filtered_ratings, indices, cosine_sim, movie_indices)\n",
        "print(f\"Content-Based Filtering - Precision@10: {precision_at_k:.4f}\")\n",
        "\n",
        "# Evaluasi Collaborative Filtering\n",
        "rmse = evaluate_collaborative(model, test_dataset)\n",
        "print(f\"Collaborative Filtering - RMSE: {rmse:.4f}\")\n",
        "\n",
        "# Visualisasi hasil evaluasi\n",
        "plt.figure(figsize=(12, 6))\n",
        "\n",
        "# Precision@k untuk Content-Based Filtering\n",
        "plt.subplot(1, 2, 1)\n",
        "plt.bar(['Precision@10'], [precision_at_k], color='skyblue')\n",
        "plt.title('Content-Based Filtering\\nPrecision@10')\n",
        "plt.ylim(0, 1)\n",
        "\n",
        "# RMSE untuk Collaborative Filtering\n",
        "plt.subplot(1, 2, 2)\n",
        "plt.bar(['RMSE'], [rmse], color='salmon')\n",
        "plt.title('Collaborative Filtering\\nRMSE')\n",
        "plt.ylim(0, 5)\n",
        "\n",
        "plt.tight_layout()\n",
        "plt.savefig('evaluation_metrics.png')\n",
        "plt.close()\n",
        "\n",
        "# Simpan model Collaborative Filtering\n",
        "model.save('collaborative_filtering_model.keras')\n",
        "\n",
        "print(\"\\nProyek Sistem Rekomendasi Film Selesai!\")"
      ]
    }
  ],
  "metadata": {
    "colab": {
      "provenance": []
    },
    "kernelspec": {
      "display_name": "Python 3",
      "name": "python3"
    },
    "language_info": {
      "name": "python"
    }
  },
  "nbformat": 4,
  "nbformat_minor": 0
}
